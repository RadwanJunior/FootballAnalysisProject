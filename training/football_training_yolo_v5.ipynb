{
  "cells": [
    {
      "cell_type": "code",
      "execution_count": null,
      "metadata": {
        "id": "tkVCGIt25u3I"
      },
      "outputs": [],
      "source": [
        "!pip install ultralytics\n",
        "!pip install roboflow"
      ]
    },
    {
      "cell_type": "code",
      "execution_count": null,
      "metadata": {
        "id": "h836oyKS5u3J"
      },
      "outputs": [],
      "source": []
    },
    {
      "cell_type": "markdown",
      "metadata": {
        "id": "yI_BBLsy5u3J"
      },
      "source": [
        "# Get Dataset"
      ]
    },
    {
      "cell_type": "code",
      "execution_count": null,
      "metadata": {
        "id": "jTGNt_qx5u3K"
      },
      "outputs": [],
      "source": [
        "from roboflow import Roboflow\n",
        "rf = Roboflow(api_key=\"YOURKEY\")\n",
        "project = rf.workspace(\"roboflow-jvuqo\").project(\"football-players-detection-3zvbc\")\n",
        "version = project.version(1)\n",
        "dataset = version.download(\"yolov5\")\n"
      ]
    },
    {
      "cell_type": "code",
      "execution_count": null,
      "metadata": {
        "id": "QXqw9-mJ5u3K"
      },
      "outputs": [],
      "source": [
        "dataset.location"
      ]
    },
    {
      "cell_type": "markdown",
      "metadata": {
        "id": "k1-8JWGv5u3K"
      },
      "source": [
        "Import a library called shuttle that will help move and copy files and folders in our machine"
      ]
    },
    {
      "cell_type": "code",
      "execution_count": null,
      "metadata": {
        "id": "h8vgMztg5u3K"
      },
      "outputs": [],
      "source": [
        "import shutil\n",
        "\n",
        "shutil.move('football-players-detection-1/train',\n",
        "            'football-players-detection-1/football-players-detection-1/train'\n",
        "            )\n",
        "\n",
        "shutil.move('football-players-detection-1/test',\n",
        "            'football-players-detection-1/football-players-detection-1/test'\n",
        "            )\n",
        "\n",
        "shutil.move('football-players-detection-1/valid',\n",
        "            'football-players-detection-1/football-players-detection-1/valid'\n",
        "            )"
      ]
    },
    {
      "cell_type": "markdown",
      "metadata": {
        "id": "wXluXqSx5u3L"
      },
      "source": [
        "# Training"
      ]
    },
    {
      "cell_type": "code",
      "execution_count": null,
      "metadata": {
        "id": "MYNly1m88K1k"
      },
      "outputs": [],
      "source": [
        "%env PYTORCH_CUDA_ALLOC_CONF=expandable_segments:True"
      ]
    },
    {
      "cell_type": "code",
      "execution_count": null,
      "metadata": {
        "id": "wKHMppUv5u3L"
      },
      "outputs": [],
      "source": [
        "!yolo task=detect mode=train model=yolov5x.pt data={dataset.location}/data.yaml epochs=100 imgsz=640"
      ]
    },
    {
      "cell_type": "code",
      "execution_count": 12,
      "metadata": {
        "id": "d0OU0rnpaBKo"
      },
      "outputs": [],
      "source": [
        "!cp runs/detect/train/weights/best.pt drive/MyDrive/Colab\\ Notebooks/football_analysis_project/yolov5"
      ]
    },
    {
      "cell_type": "code",
      "execution_count": 13,
      "metadata": {
        "id": "g9cz0F6rapC5"
      },
      "outputs": [],
      "source": [
        "!cp runs/detect/train/weights/last.pt drive/MyDrive/Colab\\ Notebooks/football_analysis_project/yolov5"
      ]
    }
  ],
  "metadata": {
    "accelerator": "GPU",
    "colab": {
      "gpuType": "T4",
      "provenance": []
    },
    "kernelspec": {
      "display_name": "Python 3",
      "name": "python3"
    },
    "language_info": {
      "codemirror_mode": {
        "name": "ipython",
        "version": 3
      },
      "file_extension": ".py",
      "mimetype": "text/x-python",
      "name": "python",
      "nbconvert_exporter": "python",
      "pygments_lexer": "ipython3",
      "version": "3.12.2"
    }
  },
  "nbformat": 4,
  "nbformat_minor": 0
}
